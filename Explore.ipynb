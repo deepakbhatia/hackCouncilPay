{
 "metadata": {
  "name": "Explore"
 },
 "nbformat": 3,
 "nbformat_minor": 0,
 "worksheets": [
  {
   "cells": [
    {
     "cell_type": "code",
     "collapsed": false,
     "input": [
      "from pandas import DataFrame, Series\n",
      "import pandas as pd"
     ],
     "language": "python",
     "metadata": {},
     "outputs": [],
     "prompt_number": 11
    },
    {
     "cell_type": "code",
     "collapsed": false,
     "input": [
      "pd.read_table(\"data/Town-Hall-Rich-List-2012/Town-Hall-Rich-List-2012.txt\")"
     ],
     "language": "python",
     "metadata": {},
     "outputs": [
      {
       "output_type": "pyout",
       "prompt_number": 15,
       "text": [
        "<class 'pandas.core.frame.DataFrame'>\n",
        "Int64Index: 412 entries, 0 to 411\n",
        "Data columns:\n",
        "Council                               412  non-null values\n",
        "Name                                  212  non-null values\n",
        "Job Title                             412  non-null values\n",
        "2009-10                               412  non-null values\n",
        "2010-11                               412  non-null values\n",
        "% Change                              412  non-null values\n",
        "Full details for 2010-11 and Notes    407  non-null values\n",
        "dtypes: object(7)"
       ]
      }
     ],
     "prompt_number": 15
    },
    {
     "cell_type": "code",
     "collapsed": false,
     "input": [
      "data = _"
     ],
     "language": "python",
     "metadata": {},
     "outputs": [],
     "prompt_number": 16
    },
    {
     "cell_type": "code",
     "collapsed": false,
     "input": [
      "data.columns = [\"council\", \"name\", \"title\", \"09-10\", \"10-11\", \"change\", \"details\"]"
     ],
     "language": "python",
     "metadata": {},
     "outputs": [],
     "prompt_number": 24
    },
    {
     "cell_type": "code",
     "collapsed": false,
     "input": [
      "data"
     ],
     "language": "python",
     "metadata": {},
     "outputs": [
      {
       "output_type": "pyout",
       "prompt_number": 25,
       "text": [
        "<class 'pandas.core.frame.DataFrame'>\n",
        "Int64Index: 412 entries, 0 to 411\n",
        "Data columns:\n",
        "council    412  non-null values\n",
        "name       212  non-null values\n",
        "title      412  non-null values\n",
        "09-10      412  non-null values\n",
        "10-11      412  non-null values\n",
        "change     412  non-null values\n",
        "details    407  non-null values\n",
        "dtypes: object(7)"
       ]
      }
     ],
     "prompt_number": 25
    },
    {
     "cell_type": "code",
     "collapsed": false,
     "input": [],
     "language": "python",
     "metadata": {},
     "outputs": [],
     "prompt_number": 23
    },
    {
     "cell_type": "code",
     "collapsed": false,
     "input": [],
     "language": "python",
     "metadata": {},
     "outputs": []
    }
   ],
   "metadata": {}
  }
 ]
}