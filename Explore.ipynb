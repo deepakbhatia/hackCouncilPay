{
 "metadata": {
  "name": "Explore"
 },
 "nbformat": 3,
 "nbformat_minor": 0,
 "worksheets": [
  {
   "cells": [
    {
     "cell_type": "code",
     "collapsed": false,
     "input": [
      "from pandas import DataFrame, Series\n",
      "import pandas as pd"
     ],
     "language": "python",
     "metadata": {},
     "outputs": [],
     "prompt_number": 11
    },
    {
     "cell_type": "code",
     "collapsed": false,
     "input": [
      "pd.read_table(\"data/Town-Hall-Rich-List-2012/Town-Hall-Rich-List-2012.txt\")"
     ],
     "language": "python",
     "metadata": {},
     "outputs": [
      {
       "output_type": "pyout",
       "prompt_number": 38,
       "text": [
        "<class 'pandas.core.frame.DataFrame'>\n",
        "Int64Index: 412 entries, 0 to 411\n",
        "Data columns:\n",
        "Council                               412  non-null values\n",
        "Name                                  212  non-null values\n",
        "Job Title                             412  non-null values\n",
        "2009-10                               412  non-null values\n",
        "2010-11                               412  non-null values\n",
        "% Change                              412  non-null values\n",
        "Full details for 2010-11 and Notes    407  non-null values\n",
        "dtypes: object(7)"
       ]
      }
     ],
     "prompt_number": 38
    },
    {
     "cell_type": "code",
     "collapsed": false,
     "input": [
      "data = _"
     ],
     "language": "python",
     "metadata": {},
     "outputs": [],
     "prompt_number": 16
    },
    {
     "cell_type": "code",
     "collapsed": false,
     "input": [
      "data.columns = [\"council\", \"name\", \"title\", \"09-10\", \"10-11\", \"change\", \"details\"]"
     ],
     "language": "python",
     "metadata": {},
     "outputs": [],
     "prompt_number": 24
    },
    {
     "cell_type": "code",
     "collapsed": false,
     "input": [
      "data"
     ],
     "language": "python",
     "metadata": {},
     "outputs": [
      {
       "output_type": "pyout",
       "prompt_number": 25,
       "text": [
        "<class 'pandas.core.frame.DataFrame'>\n",
        "Int64Index: 412 entries, 0 to 411\n",
        "Data columns:\n",
        "council    412  non-null values\n",
        "name       212  non-null values\n",
        "title      412  non-null values\n",
        "09-10      412  non-null values\n",
        "10-11      412  non-null values\n",
        "change     412  non-null values\n",
        "details    407  non-null values\n",
        "dtypes: object(7)"
       ]
      }
     ],
     "prompt_number": 25
    },
    {
     "cell_type": "code",
     "collapsed": false,
     "input": [
      "c_data = data.convert_objects()"
     ],
     "language": "python",
     "metadata": {},
     "outputs": [],
     "prompt_number": 26
    },
    {
     "cell_type": "code",
     "collapsed": false,
     "input": [
      "c_data"
     ],
     "language": "python",
     "metadata": {},
     "outputs": [
      {
       "output_type": "pyout",
       "prompt_number": 28,
       "text": [
        "<class 'pandas.core.frame.DataFrame'>\n",
        "Int64Index: 412 entries, 0 to 411\n",
        "Data columns:\n",
        "council    412  non-null values\n",
        "name       212  non-null values\n",
        "title      412  non-null values\n",
        "09-10      412  non-null values\n",
        "10-11      412  non-null values\n",
        "change     412  non-null values\n",
        "details    407  non-null values\n",
        "dtypes: object(7)"
       ]
      }
     ],
     "prompt_number": 28
    },
    {
     "cell_type": "code",
     "collapsed": false,
     "input": [
      "data['10-11'] = data['10-11'].apply(clean)"
     ],
     "language": "python",
     "metadata": {},
     "outputs": [],
     "prompt_number": 51
    },
    {
     "cell_type": "code",
     "collapsed": false,
     "input": [
      "def clean(sn):\n",
      "    if sn == \"-\":\n",
      "        return 0\n",
      "    else:\n",
      "        return long(str.replace(sn, \",\", \"\"))\n"
     ],
     "language": "python",
     "metadata": {},
     "outputs": [],
     "prompt_number": 47
    },
    {
     "cell_type": "code",
     "collapsed": false,
     "input": [
      "def clean_pct(sp):\n",
      "    if sp == \"-\":\n",
      "        return np.float64(0.0)\n",
      "    else:\n",
      "        return np.float64(str.replace(sp, \"%\", \"\"))"
     ],
     "language": "python",
     "metadata": {},
     "outputs": [],
     "prompt_number": 52
    },
    {
     "cell_type": "code",
     "collapsed": false,
     "input": [
      "data.change = data.change.apply(clean_pct)"
     ],
     "language": "python",
     "metadata": {},
     "outputs": [],
     "prompt_number": 53
    },
    {
     "cell_type": "code",
     "collapsed": false,
     "input": [
      "data"
     ],
     "language": "python",
     "metadata": {},
     "outputs": [
      {
       "output_type": "pyout",
       "prompt_number": 54,
       "text": [
        "<class 'pandas.core.frame.DataFrame'>\n",
        "Int64Index: 412 entries, 0 to 411\n",
        "Data columns:\n",
        "council    412  non-null values\n",
        "name       212  non-null values\n",
        "title      412  non-null values\n",
        "09-10      412  non-null values\n",
        "10-11      412  non-null values\n",
        "change     412  non-null values\n",
        "details    407  non-null values\n",
        "dtypes: float64(1), int64(2), object(4)"
       ]
      }
     ],
     "prompt_number": 54
    },
    {
     "cell_type": "code",
     "collapsed": false,
     "input": [
      "plt.scatter(data['09-10'][(data['09-10'] > 0) & (data['10-11'] > 0)], data['10-11'][(data['09-10'] > 0) & (data['10-11'] > 0)])"
     ],
     "language": "python",
     "metadata": {},
     "outputs": [
      {
       "output_type": "pyout",
       "prompt_number": 69,
       "text": [
        "<matplotlib.collections.PathCollection at 0x10469f950>"
       ]
      },
      {
       "output_type": "display_data",
       "png": "[encoded data removed]"
      }
     ],
     "prompt_number": 69
    },
    {
     "cell_type": "code",
     "collapsed": false,
     "input": [],
     "language": "python",
     "metadata": {},
     "outputs": []
    }
   ],
   "metadata": {}
  }
 ]
}